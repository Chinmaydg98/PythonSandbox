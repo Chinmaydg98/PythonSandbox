{
 "cells": [
  {
   "cell_type": "markdown",
   "id": "1aae8eda",
   "metadata": {},
   "source": [
    "**Test Input**:\n",
    "    \n",
    "2\n",
    "arpit 100 75 40 56 53\n",
    "anushka 100 100 76 100 100\n",
    "    \n",
    "**Output:**\n",
    "    \n",
    "100.00 87.50 58.00 78.00 76.50"
   ]
  },
  {
   "cell_type": "code",
   "execution_count": 5,
   "id": "2b09cd60",
   "metadata": {},
   "outputs": [
    {
     "name": "stdout",
     "output_type": "stream",
     "text": [
      "2\n",
      "arpit 100 75 40 56 53\n",
      "arpit 100 75 40 56 53\n",
      "100.00 75.00 40.00 56.00 53.00 \n"
     ]
    }
   ],
   "source": [
    "''' Read input from STDIN. Print your output to STDOUT '''\n",
    "    #Use input() to read input from STDIN and use print to write your output to STDOUT\n",
    "\n",
    "def main():\n",
    "\n",
    " # Write code here \n",
    " n          = int(input())\n",
    " inList     = []\n",
    " outList    = [69.0] #Nice\n",
    " outStr     = ''\n",
    "\n",
    " for i in range(0, n):\n",
    "     inList.append(list(input().split()))\n",
    "\n",
    " for j in range(1, len(inList[0])):\n",
    "     outList.insert(j, 0)\n",
    "\n",
    " for x in range(0, n):\n",
    "     for y in range(1, len(inList[x])):\n",
    "         outList[y] += int(inList[x][y])\n",
    "\n",
    " for k in range(1, len(outList)):\n",
    "     outList[k] = format(outList[k]/len(inList),'.2f')\n",
    "     outStr     = outStr + str(outList[k]) + ' '\n",
    " print(outStr)\n",
    "\n",
    "main()"
   ]
  }
 ],
 "metadata": {
  "kernelspec": {
   "display_name": "Python 3",
   "language": "python",
   "name": "python3"
  },
  "language_info": {
   "codemirror_mode": {
    "name": "ipython",
    "version": 3
   },
   "file_extension": ".py",
   "mimetype": "text/x-python",
   "name": "python",
   "nbconvert_exporter": "python",
   "pygments_lexer": "ipython3",
   "version": "3.8.8"
  }
 },
 "nbformat": 4,
 "nbformat_minor": 5
}
