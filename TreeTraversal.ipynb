{
 "cells": [
  {
   "attachments": {
    "Binary-Search-Tree-Example.png": {
     "image/png": "[encoded data removed]"
    }
   },
   "cell_type": "markdown",
   "id": "621007b9",
   "metadata": {},
   "source": [
    "![Binary-Search-Tree-Example.png](attachment:Binary-Search-Tree-Example.png)"
   ]
  },
  {
   "cell_type": "code",
   "execution_count": 83,
   "id": "1c757ce8",
   "metadata": {},
   "outputs": [],
   "source": [
    "#Node Class\n",
    "class Node:\n",
    "    def __init__(self, value):\n",
    "        self.Data = value\n",
    "        self.LeftChild = None\n",
    "        self.RightChild = None\n"
   ]
  },
  {
   "cell_type": "code",
   "execution_count": 84,
   "id": "a945ec75",
   "metadata": {},
   "outputs": [],
   "source": [
    "#Create Tree\n",
    "root = Node(25)\n",
    "\n",
    "root.LeftChild = Node(20)\n",
    "root.RightChild = Node(36)\n",
    "\n",
    "root.LeftChild.LeftChild = Node(10)\n",
    "root.LeftChild.RightChild = Node(22)\n",
    "\n",
    "root.LeftChild.LeftChild.LeftChild = Node(5)\n",
    "root.LeftChild.LeftChild.RightChild = Node(12)\n",
    "\n",
    "root.RightChild.LeftChild = Node(30)\n",
    "root.RightChild.RightChild = Node(40)\n",
    "\n",
    "root.RightChild.LeftChild.LeftChild = Node(28)\n",
    "\n",
    "root.RightChild.RightChild.LeftChild = Node(38)\n",
    "root.RightChild.RightChild.RightChild = Node(48)\n"
   ]
  },
  {
   "cell_type": "code",
   "execution_count": 85,
   "id": "f8f8e008",
   "metadata": {},
   "outputs": [],
   "source": [
    "#Traverse Tree: InOrder\n",
    "def TraverseIO(Node):\n",
    "    if Node.LeftChild:\n",
    "        TraverseIO(Node.LeftChild)\n",
    "    if Node.Data:\n",
    "        print(Node.Data)\n",
    "    if Node.RightChild:\n",
    "        TraverseIO(Node.RightChild)\n"
   ]
  },
  {
   "cell_type": "code",
   "execution_count": 86,
   "id": "b41f083f",
   "metadata": {},
   "outputs": [],
   "source": [
    "#Traverse Tree: PreOrder\n",
    "def TraversePreO(Node):\n",
    "    if Node.Data:\n",
    "        print(Node.Data)\n",
    "    if Node.LeftChild:\n",
    "        TraversePreO(Node.LeftChild)\n",
    "    if Node.RightChild:\n",
    "        TraversePreO(Node.RightChild)\n"
   ]
  },
  {
   "cell_type": "code",
   "execution_count": 87,
   "id": "9eb172e6",
   "metadata": {},
   "outputs": [],
   "source": [
    "#Traverse Tree: PostOrder\n",
    "def TraversePostO(Node):\n",
    "    if Node.LeftChild:\n",
    "        TraversePostO(Node.LeftChild)\n",
    "    if Node.RightChild:\n",
    "        TraversePostO(Node.RightChild)\n",
    "    if Node.Data:\n",
    "        print(Node.Data)\n"
   ]
  },
  {
   "cell_type": "code",
   "execution_count": 88,
   "id": "30b9fdc3",
   "metadata": {},
   "outputs": [
    {
     "name": "stdout",
     "output_type": "stream",
     "text": [
      "5\n",
      "10\n",
      "12\n",
      "20\n",
      "22\n",
      "25\n",
      "28\n",
      "30\n",
      "36\n",
      "38\n",
      "40\n",
      "48\n"
     ]
    }
   ],
   "source": [
    "TraverseIO(root)"
   ]
  },
  {
   "cell_type": "code",
   "execution_count": 89,
   "id": "ddd6faf3",
   "metadata": {},
   "outputs": [
    {
     "name": "stdout",
     "output_type": "stream",
     "text": [
      "25\n",
      "20\n",
      "10\n",
      "5\n",
      "12\n",
      "22\n",
      "36\n",
      "30\n",
      "28\n",
      "40\n",
      "38\n",
      "48\n"
     ]
    }
   ],
   "source": [
    "TraversePreO(root)"
   ]
  },
  {
   "cell_type": "code",
   "execution_count": 90,
   "id": "47034ea2",
   "metadata": {},
   "outputs": [
    {
     "name": "stdout",
     "output_type": "stream",
     "text": [
      "5\n",
      "12\n",
      "10\n",
      "22\n",
      "20\n",
      "28\n",
      "30\n",
      "38\n",
      "48\n",
      "40\n",
      "36\n",
      "25\n"
     ]
    }
   ],
   "source": [
    "TraversePostO(root)"
   ]
  }
 ],
 "metadata": {
  "kernelspec": {
   "display_name": "Python 3",
   "language": "python",
   "name": "python3"
  },
  "language_info": {
   "codemirror_mode": {
    "name": "ipython",
    "version": 3
   },
   "file_extension": ".py",
   "mimetype": "text/x-python",
   "name": "python",
   "nbconvert_exporter": "python",
   "pygments_lexer": "ipython3",
   "version": "3.8.8"
  }
 },
 "nbformat": 4,
 "nbformat_minor": 5
}
