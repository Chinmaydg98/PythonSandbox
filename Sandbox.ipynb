{
 "cells": [
  {
   "cell_type": "code",
   "execution_count": 37,
   "id": "f423cc01",
   "metadata": {},
   "outputs": [
    {
     "data": {
      "text/plain": [
       "'25.60'"
      ]
     },
     "execution_count": 37,
     "metadata": {},
     "output_type": "execute_result"
    }
   ],
   "source": [
    "format(25.6, '.2f')"
   ]
  },
  {
   "cell_type": "code",
   "execution_count": 35,
   "id": "64effd9a",
   "metadata": {},
   "outputs": [
    {
     "name": "stdout",
     "output_type": "stream",
     "text": [
      "arpit 100 75 40 56 53\n",
      "arpit 100 75 40 56 53\n",
      "2\n",
      "100\n",
      "6\n"
     ]
    },
    {
     "data": {
      "text/plain": [
       "25.6"
      ]
     },
     "execution_count": 35,
     "metadata": {},
     "output_type": "execute_result"
    }
   ],
   "source": [
    "import sys\n",
    "inList = []\n",
    "for i in range(0,2):\n",
    "    inList.append(list(input().split()))\n",
    "\n",
    "print(len(inList))\n",
    "print(inList[0][1])\n",
    "print(len(inList[0]))"
   ]
  },
  {
   "cell_type": "markdown",
   "id": "533a850a",
   "metadata": {},
   "source": [
    "2\n",
    "arpit 100 75 40 56 53\n",
    "anushka 100 100 76 100 100"
   ]
  },
  {
   "cell_type": "code",
   "execution_count": 13,
   "id": "ca16e96c",
   "metadata": {},
   "outputs": [
    {
     "name": "stdout",
     "output_type": "stream",
     "text": [
      "ab\n"
     ]
    }
   ],
   "source": [
    "''' Read input from STDIN. Print your output to STDOUT '''\n",
    "    #Use input() to read input from STDIN and use print to write your output to STDOUT\n",
    "\n",
    "import sys\n",
    "\n",
    "def main():\n",
    "\n",
    " # Write code here \n",
    " n          = int(input())\n",
    " inList     = []\n",
    " \n",
    " for \n",
    "    \n",
    " for x in range(0, n):\n",
    "     print(x)\n",
    "     #inList[x] = list(sys.stdin.readline())\n",
    "\n",
    " print(inList)\n",
    "\n",
    "main()\n",
    "\n"
   ]
  },
  {
   "cell_type": "code",
   "execution_count": 12,
   "id": "c4287ec5",
   "metadata": {},
   "outputs": [
    {
     "name": "stdout",
     "output_type": "stream",
     "text": [
      "10\n",
      "0112358132134\n"
     ]
    }
   ],
   "source": [
    "''' Read input from STDIN. Print your output to STDOUT '''\n",
    "    #Use input() to read input from STDIN and use print to write your output to STDOUT\n",
    "\n",
    "def main():\n",
    "\n",
    " # Write code here \n",
    " n = int(input())\n",
    " result = [0,1]\n",
    "\n",
    " for i in range(2,n):\n",
    "     result.insert(i, result[i-2] + result[i-1])\n",
    "\n",
    " output = ''  \n",
    "    \n",
    " for item in result:\n",
    "    output = output + str(item)\n",
    "    \n",
    " print(output)\n",
    "\n",
    "main()\n",
    "\n"
   ]
  },
  {
   "cell_type": "code",
   "execution_count": 4,
   "id": "d57e3801",
   "metadata": {},
   "outputs": [
    {
     "name": "stdout",
     "output_type": "stream",
     "text": [
      "199\n"
     ]
    }
   ],
   "source": [
    "print(abs(-199))"
   ]
  },
  {
   "cell_type": "code",
   "execution_count": 7,
   "id": "5feec2ea",
   "metadata": {},
   "outputs": [
    {
     "name": "stdout",
     "output_type": "stream",
     "text": [
      "3\n",
      "1234\n"
     ]
    },
    {
     "ename": "IndexError",
     "evalue": "list index out of range",
     "output_type": "error",
     "traceback": [
      "\u001b[1;31m---------------------------------------------------------------------------\u001b[0m",
      "\u001b[1;31mIndexError\u001b[0m                                Traceback (most recent call last)",
      "\u001b[1;32m<ipython-input-7-ba23a0d5e541>\u001b[0m in \u001b[0;36m<module>\u001b[1;34m\u001b[0m\n\u001b[0;32m     19\u001b[0m \u001b[0marr\u001b[0m \u001b[1;33m=\u001b[0m \u001b[0mlist\u001b[0m\u001b[1;33m(\u001b[0m\u001b[0mmap\u001b[0m\u001b[1;33m(\u001b[0m\u001b[0mint\u001b[0m\u001b[1;33m,\u001b[0m \u001b[0minput\u001b[0m\u001b[1;33m(\u001b[0m\u001b[1;33m)\u001b[0m\u001b[1;33m.\u001b[0m\u001b[0msplit\u001b[0m\u001b[1;33m(\u001b[0m\u001b[1;33m)\u001b[0m\u001b[1;33m)\u001b[0m\u001b[1;33m)\u001b[0m\u001b[1;33m\u001b[0m\u001b[1;33m\u001b[0m\u001b[0m\n\u001b[0;32m     20\u001b[0m \u001b[0mn\u001b[0m \u001b[1;33m=\u001b[0m \u001b[0mlen\u001b[0m\u001b[1;33m(\u001b[0m\u001b[0marr\u001b[0m\u001b[1;33m)\u001b[0m\u001b[1;33m\u001b[0m\u001b[1;33m\u001b[0m\u001b[0m\n\u001b[1;32m---> 21\u001b[1;33m \u001b[0mprint\u001b[0m\u001b[1;33m(\u001b[0m\u001b[0msumOfMinAbsDifferences\u001b[0m\u001b[1;33m(\u001b[0m\u001b[0marr\u001b[0m\u001b[1;33m,\u001b[0m \u001b[0mn\u001b[0m\u001b[1;33m)\u001b[0m\u001b[1;33m)\u001b[0m\u001b[1;33m\u001b[0m\u001b[1;33m\u001b[0m\u001b[0m\n\u001b[0m",
      "\u001b[1;32m<ipython-input-7-ba23a0d5e541>\u001b[0m in \u001b[0;36msumOfMinAbsDifferences\u001b[1;34m(arr, n)\u001b[0m\n\u001b[0;32m      8\u001b[0m     \u001b[0marr\u001b[0m\u001b[1;33m.\u001b[0m\u001b[0msort\u001b[0m\u001b[1;33m(\u001b[0m\u001b[1;33m)\u001b[0m\u001b[1;33m\u001b[0m\u001b[1;33m\u001b[0m\u001b[0m\n\u001b[0;32m      9\u001b[0m     \u001b[0msum\u001b[0m \u001b[1;33m=\u001b[0m \u001b[1;36m0\u001b[0m\u001b[1;33m\u001b[0m\u001b[1;33m\u001b[0m\u001b[0m\n\u001b[1;32m---> 10\u001b[1;33m     \u001b[0msum\u001b[0m \u001b[1;33m+=\u001b[0m \u001b[0mabs\u001b[0m\u001b[1;33m(\u001b[0m\u001b[0marr\u001b[0m\u001b[1;33m[\u001b[0m\u001b[1;36m0\u001b[0m\u001b[1;33m]\u001b[0m \u001b[1;33m-\u001b[0m \u001b[0marr\u001b[0m\u001b[1;33m[\u001b[0m\u001b[1;36m1\u001b[0m\u001b[1;33m]\u001b[0m\u001b[1;33m)\u001b[0m\u001b[1;33m\u001b[0m\u001b[1;33m\u001b[0m\u001b[0m\n\u001b[0m\u001b[0;32m     11\u001b[0m     \u001b[0msum\u001b[0m \u001b[1;33m+=\u001b[0m \u001b[0mabs\u001b[0m\u001b[1;33m(\u001b[0m\u001b[0marr\u001b[0m\u001b[1;33m[\u001b[0m\u001b[0mn\u001b[0m \u001b[1;33m-\u001b[0m \u001b[1;36m1\u001b[0m\u001b[1;33m]\u001b[0m \u001b[1;33m-\u001b[0m \u001b[0marr\u001b[0m\u001b[1;33m[\u001b[0m\u001b[0mn\u001b[0m \u001b[1;33m-\u001b[0m \u001b[1;36m2\u001b[0m\u001b[1;33m]\u001b[0m\u001b[1;33m)\u001b[0m\u001b[1;33m\u001b[0m\u001b[1;33m\u001b[0m\u001b[0m\n\u001b[0;32m     12\u001b[0m     \u001b[1;32mfor\u001b[0m \u001b[0mi\u001b[0m \u001b[1;32min\u001b[0m \u001b[0mrange\u001b[0m\u001b[1;33m(\u001b[0m\u001b[1;36m1\u001b[0m\u001b[1;33m,\u001b[0m \u001b[0mn\u001b[0m \u001b[1;33m-\u001b[0m \u001b[1;36m1\u001b[0m\u001b[1;33m)\u001b[0m\u001b[1;33m:\u001b[0m\u001b[1;33m\u001b[0m\u001b[1;33m\u001b[0m\u001b[0m\n",
      "\u001b[1;31mIndexError\u001b[0m: list index out of range"
     ]
    }
   ],
   "source": [
    "import sys\n",
    "\n",
    "\n",
    "def get_ints(): return map(int, sys.stdin.readline().strip().split())\n",
    "\n",
    "\n",
    "def sumOfMinAbsDifferences(arr, n):\n",
    "    arr.sort()\n",
    "    sum = 0\n",
    "    sum += abs(arr[0] - arr[1])\n",
    "    sum += abs(arr[n - 1] - arr[n - 2])\n",
    "    for i in range(1, n - 1):\n",
    "        sum += min(abs(arr[i] - arr[i - 1]),\n",
    "                   abs(arr[i] - arr[i + 1]))\n",
    "    return sum\n",
    "\n",
    "\n",
    "t = int(input())\n",
    "arr = list(map(int, input().split()))\n",
    "n = len(arr)\n",
    "print(sumOfMinAbsDifferences(arr, n))"
   ]
  },
  {
   "cell_type": "code",
   "execution_count": 3,
   "id": "c7bd8bdf",
   "metadata": {},
   "outputs": [],
   "source": [
    "def sumOfMinAbsDifferences(arr, n):\n",
    "    arr.sort()\n",
    "    sum = 0\n",
    "    sum += abs(arr[0] - arr[1]) #First dist\n",
    "    sum += abs(arr[n - 1] - arr[n - 2]) #Last dist\n",
    "    for i in range(1, n - 1):\n",
    "        sum += min(abs(arr[i] - arr[i - 1]),\n",
    "                   abs(arr[i] - arr[i + 1]))\n",
    "    return sum"
   ]
  },
  {
   "cell_type": "code",
   "execution_count": 6,
   "id": "f9892eb0",
   "metadata": {},
   "outputs": [
    {
     "name": "stdout",
     "output_type": "stream",
     "text": [
      "9\n",
      "12 10 15 22 21 20 1 8 9\n",
      "18\n"
     ]
    }
   ],
   "source": [
    "n = int(input())\n",
    "arr = list(map(int, input().split()))\n",
    "sum = 0\n",
    "\n",
    "if(n == len(arr)):\n",
    "    #print(n)\n",
    "    #print(arr[-2])\n",
    "    #print(sumOfMinAbsDifferences(arr, n))\n",
    "    arr.sort()\n",
    "    sum += abs(arr[0] - arr[1])\n",
    "    sum += abs(arr[-1] - arr[-2])\n",
    "    for i in range(1, n-1):\n",
    "        sum += min(abs(arr[i] - arr[i-1]), abs(arr[i] - arr[i+1]))\n",
    "    print(sum)\n",
    "else:\n",
    "    print(\"bruh\")"
   ]
  }
 ],
 "metadata": {
  "kernelspec": {
   "display_name": "Python 3",
   "language": "python",
   "name": "python3"
  },
  "language_info": {
   "codemirror_mode": {
    "name": "ipython",
    "version": 3
   },
   "file_extension": ".py",
   "mimetype": "text/x-python",
   "name": "python",
   "nbconvert_exporter": "python",
   "pygments_lexer": "ipython3",
   "version": "3.8.8"
  }
 },
 "nbformat": 4,
 "nbformat_minor": 5
}
